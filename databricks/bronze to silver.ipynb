{
 "cells": [
  {
   "cell_type": "code",
   "execution_count": 0,
   "metadata": {
    "application/vnd.databricks.v1+cell": {
     "cellMetadata": {
      "byteLimit": 2048000,
      "rowLimit": 10000
     },
     "inputWidgets": {},
     "nuid": "06a7af3f-2cf2-449d-a76a-2c5a901f5505",
     "showTitle": false,
     "tableResultSettingsMap": {},
     "title": ""
    }
   },
   "outputs": [],
   "source": [
    "#service principal credentials\n",
    "client_id = dbutils.secrets.get(scope=\"secret-scope\", key=\"client-id\")\n",
    "client_secret = dbutils.secrets.get(scope=\"secret-scope\", key=\"client-secret\")\n",
    "tenant_id = dbutils.secrets.get(scope=\"secret-scope\", key=\"tenant-id\")"
   ]
  },
  {
   "cell_type": "code",
   "execution_count": 0,
   "metadata": {
    "application/vnd.databricks.v1+cell": {
     "cellMetadata": {
      "byteLimit": 2048000,
      "rowLimit": 10000
     },
     "inputWidgets": {},
     "nuid": "4363ade8-33f6-475f-8213-55f87fce4501",
     "showTitle": false,
     "tableResultSettingsMap": {},
     "title": ""
    }
   },
   "outputs": [],
   "source": [
    "#configuring OAuth authentication for Spark\n",
    "storage_account = \"salesdlprod1\"\n",
    "\n",
    "spark.conf.set(f\"fs.azure.account.auth.type.{storage_account}.dfs.core.windows.net\", \"OAuth\")\n",
    "spark.conf.set(f\"fs.azure.account.oauth.provider.type.{storage_account}.dfs.core.windows.net\", \"org.apache.hadoop.fs.azurebfs.oauth2.ClientCredsTokenProvider\")\n",
    "spark.conf.set(f\"fs.azure.account.oauth2.client.id.{storage_account}.dfs.core.windows.net\", client_id)\n",
    "spark.conf.set(f\"fs.azure.account.oauth2.client.secret.{storage_account}.dfs.core.windows.net\", client_secret)\n",
    "spark.conf.set(f\"fs.azure.account.oauth2.client.endpoint.{storage_account}.dfs.core.windows.net\", f\"https://login.microsoftonline.com/{tenant_id}/oauth2/token\")"
   ]
  },
  {
   "cell_type": "code",
   "execution_count": 0,
   "metadata": {
    "application/vnd.databricks.v1+cell": {
     "cellMetadata": {
      "byteLimit": 2048000,
      "rowLimit": 10000
     },
     "inputWidgets": {},
     "nuid": "66889965-88fe-42a6-8556-8ee18458cd9e",
     "showTitle": false,
     "tableResultSettingsMap": {},
     "title": ""
    }
   },
   "outputs": [],
   "source": [
    "storage_account=\"salesdlprod1\"\n",
    "container_name=\"bronze\"\n",
    "input_path=f\"abfss://{container_name}@{storage_account}.dfs.core.windows.net/SalesLT/Address/\"\n",
    "df=spark.read.format('parquet').load(input_path)\n",
    "display(df)"
   ]
  },
  {
   "cell_type": "code",
   "execution_count": 0,
   "metadata": {
    "application/vnd.databricks.v1+cell": {
     "cellMetadata": {
      "byteLimit": 2048000,
      "rowLimit": 10000
     },
     "inputWidgets": {},
     "nuid": "cde16936-f35e-4e02-b2ab-33ad9b7a8e20",
     "showTitle": false,
     "tableResultSettingsMap": {},
     "title": ""
    }
   },
   "outputs": [],
   "source": [
    "from pyspark.sql.functions import col, to_date\n",
    "from pyspark.sql.types import TimestampType \n",
    "\n",
    "df = df.withColumn(\n",
    "    \"ModifiedDate\",\n",
    "    to_date(# Cast to timestamp then extract date only\n",
    "        col(\"ModifiedDate\").cast(TimestampType())\n",
    "    )\n",
    ")\n",
    "display(df)"
   ]
  },
  {
   "cell_type": "markdown",
   "metadata": {
    "application/vnd.databricks.v1+cell": {
     "cellMetadata": {
      "byteLimit": 2048000,
      "rowLimit": 10000
     },
     "inputWidgets": {},
     "nuid": "d625c000-2bac-4409-a84f-0bcb613d1b02",
     "showTitle": false,
     "tableResultSettingsMap": {},
     "title": ""
    }
   },
   "source": [
    "## Performing transformations on all tables"
   ]
  },
  {
   "cell_type": "code",
   "execution_count": 0,
   "metadata": {
    "application/vnd.databricks.v1+cell": {
     "cellMetadata": {
      "byteLimit": 2048000,
      "rowLimit": 10000
     },
     "inputWidgets": {},
     "nuid": "7c699bb0-4ac3-42f4-90bb-6a630f05a5e1",
     "showTitle": false,
     "tableResultSettingsMap": {},
     "title": ""
    }
   },
   "outputs": [],
   "source": [
    "#Path to ADLS container\n",
    "base_path = f\"abfss://{container_name}@{storage_account}.dfs.core.windows.net/SalesLT/\"\n",
    "\n",
    "# Folder paths at that container\n",
    "paths = dbutils.fs.ls(base_path) #baseinfo objects\n",
    "# Collect table names\n",
    "table_list = [item.name.rstrip('/') for item in paths] \n",
    "print(table_list)"
   ]
  },
  {
   "cell_type": "code",
   "execution_count": 0,
   "metadata": {
    "application/vnd.databricks.v1+cell": {
     "cellMetadata": {
      "byteLimit": 2048000,
      "rowLimit": 10000
     },
     "inputWidgets": {},
     "nuid": "b48dce7e-360e-478a-a175-da9098241868",
     "showTitle": false,
     "tableResultSettingsMap": {},
     "title": ""
    }
   },
   "outputs": [],
   "source": [
    "for i in table_list:\n",
    "    path = f\"abfss://bronze@{storage_account}.dfs.core.windows.net/SalesLT/{i}/{i}.parquet\"\n",
    "    \n",
    "    df = spark.read.format('parquet').load(path)\n",
    "    \n",
    "    for column_name in df.columns:\n",
    "        if \"date\" in column_name or \"Date\" in column_name:\n",
    "            df = df.withColumn(\n",
    "                column_name,\n",
    "                to_date(col(column_name).cast(TimestampType()))\n",
    "            )\n",
    "\n",
    "    output_path = f\"abfss://silver@{storage_account}.dfs.core.windows.net/SalesLT/{i}/\"\n",
    "    \n",
    "    df.write.format('delta').mode(\"overwrite\").save(output_path)\n"
   ]
  },
  {
   "cell_type": "code",
   "execution_count": 0,
   "metadata": {
    "application/vnd.databricks.v1+cell": {
     "cellMetadata": {
      "byteLimit": 2048000,
      "rowLimit": 10000
     },
     "inputWidgets": {},
     "nuid": "444e5e80-92ef-4bf8-8aa2-6d86f3231c84",
     "showTitle": false,
     "tableResultSettingsMap": {},
     "title": ""
    }
   },
   "outputs": [],
   "source": [
    "display(df)"
   ]
  }
 ],
 "metadata": {
  "application/vnd.databricks.v1+notebook": {
   "computePreferences": null,
   "dashboards": [],
   "environmentMetadata": {
    "base_environment": "",
    "environment_version": "2"
   },
   "inputWidgetPreferences": null,
   "language": "python",
   "notebookMetadata": {
    "pythonIndentUnit": 4
   },
   "notebookName": "bronze to silver",
   "widgets": {}
  },
  "language_info": {
   "name": "python"
  }
 },
 "nbformat": 4,
 "nbformat_minor": 0
}
