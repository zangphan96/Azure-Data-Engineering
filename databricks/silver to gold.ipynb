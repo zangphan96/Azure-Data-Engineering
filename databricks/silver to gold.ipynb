{
 "cells": [
  {
   "cell_type": "code",
   "execution_count": 0,
   "metadata": {
    "application/vnd.databricks.v1+cell": {
     "cellMetadata": {
      "byteLimit": 2048000,
      "rowLimit": 10000
     },
     "inputWidgets": {},
     "nuid": "10a99c13-dd27-40d1-a426-adccac0a4ab9",
     "showTitle": false,
     "tableResultSettingsMap": {},
     "title": ""
    }
   },
   "outputs": [],
   "source": [
    "#service principal credentials\n",
    "client_id = dbutils.secrets.get(scope=\"secret-scope\", key=\"client-id\")\n",
    "client_secret = dbutils.secrets.get(scope=\"secret-scope\", key=\"client-secret\")\n",
    "tenant_id = dbutils.secrets.get(scope=\"secret-scope\", key=\"tenant-id\")"
   ]
  },
  {
   "cell_type": "code",
   "execution_count": 0,
   "metadata": {
    "application/vnd.databricks.v1+cell": {
     "cellMetadata": {
      "byteLimit": 2048000,
      "rowLimit": 10000
     },
     "inputWidgets": {},
     "nuid": "25811c06-33f0-4413-a6af-bf04f2ec2efc",
     "showTitle": false,
     "tableResultSettingsMap": {},
     "title": ""
    }
   },
   "outputs": [],
   "source": [
    "#configuring OAuth authentication for Spark\n",
    "storage_account = \"salesdlprod1\"\n",
    "\n",
    "spark.conf.set(f\"fs.azure.account.auth.type.{storage_account}.dfs.core.windows.net\", \"OAuth\")\n",
    "spark.conf.set(f\"fs.azure.account.oauth.provider.type.{storage_account}.dfs.core.windows.net\", \"org.apache.hadoop.fs.azurebfs.oauth2.ClientCredsTokenProvider\")\n",
    "spark.conf.set(f\"fs.azure.account.oauth2.client.id.{storage_account}.dfs.core.windows.net\", client_id)\n",
    "spark.conf.set(f\"fs.azure.account.oauth2.client.secret.{storage_account}.dfs.core.windows.net\", client_secret)\n",
    "spark.conf.set(f\"fs.azure.account.oauth2.client.endpoint.{storage_account}.dfs.core.windows.net\", f\"https://login.microsoftonline.com/{tenant_id}/oauth2/token\")"
   ]
  },
  {
   "cell_type": "code",
   "execution_count": 0,
   "metadata": {
    "application/vnd.databricks.v1+cell": {
     "cellMetadata": {
      "byteLimit": 2048000,
      "rowLimit": 10000
     },
     "inputWidgets": {},
     "nuid": "9f3bcb1c-0857-4000-907a-4bb9979fbfc2",
     "showTitle": false,
     "tableResultSettingsMap": {},
     "title": ""
    }
   },
   "outputs": [],
   "source": [
    "storage_account=\"salesdlprod1\"\n",
    "container_name=\"silver\"\n",
    "input_path=f\"abfss://{container_name}@{storage_account}.dfs.core.windows.net/SalesLT/Address/\"\n",
    "df=spark.read.format('delta').load(input_path)\n",
    "display(df)"
   ]
  },
  {
   "cell_type": "code",
   "execution_count": 0,
   "metadata": {
    "application/vnd.databricks.v1+cell": {
     "cellMetadata": {
      "byteLimit": 2048000,
      "rowLimit": 10000
     },
     "inputWidgets": {},
     "nuid": "ecf897dd-98e7-4ec0-bf39-8d7f1e1095f2",
     "showTitle": false,
     "tableResultSettingsMap": {},
     "title": ""
    }
   },
   "outputs": [],
   "source": [
    "\n",
    "from pyspark.sql.functions import col, to_date\n",
    "from pyspark.sql.types import TimestampType \n",
    "\n",
    "def insert_underscores(name):\n",
    "    result = \"\"\n",
    "    for i, char in enumerate(name):\n",
    "        if char.isupper() and i != 0 and not name[i-1].isupper():\n",
    "            result += \"_\"\n",
    "        result += char\n",
    "    return result\n",
    "\n",
    "# Rename columns\n",
    "for old_col in df.columns:\n",
    "    new_col = insert_underscores(old_col)\n",
    "    df = df.withColumnRenamed(old_col, new_col)\n",
    "\n",
    "display(df)"
   ]
  },
  {
   "cell_type": "markdown",
   "metadata": {
    "application/vnd.databricks.v1+cell": {
     "cellMetadata": {
      "byteLimit": 2048000,
      "rowLimit": 10000
     },
     "inputWidgets": {},
     "nuid": "cd2cc8f4-9699-4cca-b7dd-cfce284e062d",
     "showTitle": false,
     "tableResultSettingsMap": {},
     "title": ""
    }
   },
   "source": [
    "## Performing transformations on all tables"
   ]
  },
  {
   "cell_type": "code",
   "execution_count": 0,
   "metadata": {
    "application/vnd.databricks.v1+cell": {
     "cellMetadata": {
      "byteLimit": 2048000,
      "rowLimit": 10000
     },
     "inputWidgets": {},
     "nuid": "69d4fb12-1593-46d0-a420-e2fca3fdf2c3",
     "showTitle": false,
     "tableResultSettingsMap": {},
     "title": ""
    }
   },
   "outputs": [],
   "source": [
    "#Path to ADLS container\n",
    "base_path = f\"abfss://{container_name}@{storage_account}.dfs.core.windows.net/SalesLT/\"\n",
    "\n",
    "# Folder paths at that container\n",
    "paths = dbutils.fs.ls(base_path) #baseinfo objects\n",
    "# Collect table names\n",
    "table_list = [item.name.rstrip('/') for item in paths] \n",
    "print(table_list)"
   ]
  },
  {
   "cell_type": "code",
   "execution_count": 0,
   "metadata": {
    "application/vnd.databricks.v1+cell": {
     "cellMetadata": {
      "byteLimit": 2048000,
      "rowLimit": 10000
     },
     "inputWidgets": {},
     "nuid": "4e9ac16f-28ac-4049-8bce-996c07c9152c",
     "showTitle": false,
     "tableResultSettingsMap": {},
     "title": ""
    }
   },
   "outputs": [],
   "source": [
    "def insert_underscores(name):\n",
    "    result = \"\"\n",
    "    for i, char in enumerate(name):\n",
    "        if char.isupper() and i != 0 and not name[i-1].isupper():\n",
    "            result += \"_\"\n",
    "        result += char\n",
    "    return result\n",
    "\n",
    "for i in table_list:\n",
    "    path = f\"abfss://silver@{storage_account}.dfs.core.windows.net/SalesLT/{i}/\"\n",
    "    \n",
    "    df = spark.read.format('delta').load(path)\n",
    "\n",
    "    # Rename columns\n",
    "    for old_col in df.columns:\n",
    "        new_col = insert_underscores(old_col)\n",
    "        df = df.withColumnRenamed(old_col, new_col)\n",
    "        \n",
    "    output_path = f\"abfss://gold@{storage_account}.dfs.core.windows.net/SalesLT/{i}/\"\n",
    "    df.write.format('delta').mode(\"overwrite\").save(output_path)"
   ]
  },
  {
   "cell_type": "code",
   "execution_count": 0,
   "metadata": {
    "application/vnd.databricks.v1+cell": {
     "cellMetadata": {
      "byteLimit": 2048000,
      "rowLimit": 10000
     },
     "inputWidgets": {},
     "nuid": "b10b0a2d-c20b-49d2-9e2c-0dcb4da66152",
     "showTitle": false,
     "tableResultSettingsMap": {},
     "title": ""
    }
   },
   "outputs": [],
   "source": [
    "display(df)"
   ]
  }
 ],
 "metadata": {
  "application/vnd.databricks.v1+notebook": {
   "computePreferences": null,
   "dashboards": [],
   "environmentMetadata": {
    "base_environment": "",
    "environment_version": "2"
   },
   "inputWidgetPreferences": null,
   "language": "python",
   "notebookMetadata": {
    "pythonIndentUnit": 4
   },
   "notebookName": "silver to gold",
   "widgets": {}
  },
  "language_info": {
   "name": "python"
  }
 },
 "nbformat": 4,
 "nbformat_minor": 0
}
